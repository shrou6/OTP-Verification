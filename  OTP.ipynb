{
 "cells": [
  {
   "cell_type": "code",
   "execution_count": 10,
   "id": "2d97bdab",
   "metadata": {},
   "outputs": [
    {
     "name": "stdout",
     "output_type": "stream",
     "text": [
      "89.54835253590213\n"
     ]
    }
   ],
   "source": [
    "import random\n",
    "\n",
    "print(random.random()*100)"
   ]
  },
  {
   "cell_type": "markdown",
   "id": "20c2dc93",
   "metadata": {},
   "source": [
    "- Min random number of n digit equal 100000 = 10**(n-1)\n",
    "- Max random number of n digit equal 999999 = (10**n)-1"
   ]
  },
  {
   "cell_type": "code",
   "execution_count": 13,
   "id": "911556d5",
   "metadata": {},
   "outputs": [
    {
     "name": "stdout",
     "output_type": "stream",
     "text": [
      "637333\n"
     ]
    }
   ],
   "source": [
    "from random import randint\n",
    "def random_with_N_digits(n):\n",
    "    range_start = 10**(n-1)\n",
    "    range_end = (10**n)-1\n",
    "    return randint(range_start, range_end)\n",
    "print(random_with_N_digits(6))"
   ]
  },
  {
   "cell_type": "code",
   "execution_count": 26,
   "id": "fe791477",
   "metadata": {},
   "outputs": [],
   "source": [
    "ran=random_with_N_digits(6)\n"
   ]
  },
  {
   "cell_type": "code",
   "execution_count": 29,
   "id": "68120f29",
   "metadata": {},
   "outputs": [
    {
     "name": "stdout",
     "output_type": "stream",
     "text": [
      "write your Email: shroukadel932@gmail.com\n",
      "write your verification code: 595397\n",
      "your verification is completed\n"
     ]
    }
   ],
   "source": [
    "import smtplib\n",
    "from email.message import EmailMessage\n",
    "\n",
    "\n",
    "# get email from user\n",
    "user_Email=input(\"write your Email: \")\n",
    "\n",
    "# create email structure\n",
    "msg = EmailMessage()\n",
    "msg['Subject'] = 'OTP Verification'\n",
    "msg['From'] = 'shroukadel297@gmail.com'\n",
    "msg['To'] = user_Email\n",
    "msg.set_content(f'This is your OTP Code: {ran}')\n",
    "\n",
    "# sending email\n",
    "with smtplib.SMTP_SSL('smtp.gmail.com', 465) as smtp:\n",
    "    smtp.login('shroukadel297@gmail.com', \" your App password\")\n",
    "    smtp.send_message(msg)\n",
    "\n",
    "# git Otp code form user\n",
    "user_Opt=int(input(\"write your verification code: \"))\n",
    "\n",
    "# check the verification code is correct or not\n",
    "if user_Opt==ran:\n",
    "    print(\"your verification is completed!\")\n",
    "\n"
   ]
  }
 ],
 "metadata": {
  "kernelspec": {
   "display_name": "Python 3 (ipykernel)",
   "language": "python",
   "name": "python3"
  },
  "language_info": {
   "codemirror_mode": {
    "name": "ipython",
    "version": 3
   },
   "file_extension": ".py",
   "mimetype": "text/x-python",
   "name": "python",
   "nbconvert_exporter": "python",
   "pygments_lexer": "ipython3",
   "version": "3.9.13"
  }
 },
 "nbformat": 4,
 "nbformat_minor": 5
}
